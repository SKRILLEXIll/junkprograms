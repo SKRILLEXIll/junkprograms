{
  "nbformat": 4,
  "nbformat_minor": 0,
  "metadata": {
    "colab": {
      "provenance": [],
      "collapsed_sections": [],
      "machine_shape": "hm",
      "include_colab_link": true
    },
    "kernelspec": {
      "name": "python3",
      "display_name": "Python 3"
    }
  },
  "cells": [
    {
      "cell_type": "markdown",
      "metadata": {
        "id": "view-in-github",
        "colab_type": "text"
      },
      "source": [
        "<a href=\"https://colab.research.google.com/github/vcetonurface/junkprograms/blob/dwm/naive_bayes_algo.ipynb\" target=\"_parent\"><img src=\"https://colab.research.google.com/assets/colab-badge.svg\" alt=\"Open In Colab\"/></a>"
      ]
    },
    {
      "cell_type": "markdown",
      "metadata": {
        "id": "0MRC0e0KhQ0S"
      },
      "source": [
        "# Naive Bayes"
      ]
    },
    {
      "cell_type": "code",
      "metadata": {
        "id": "YvGPUQaHhXfL"
      },
      "source": [
        "import numpy as np\n",
        "import pandas as pd"
      ],
      "execution_count": 39,
      "outputs": []
    },
    {
      "cell_type": "code",
      "metadata": {
        "id": "M52QDmyzhh9s"
      },
      "source": [
        "dataset = pd.read_csv('/content/preprocessed.csv')\n",
        "dataset.dropna(axis=0,inplace=True)\n",
        "X = dataset.iloc[:, :-1].values\n",
        "y = dataset.iloc[:, 1].values"
      ],
      "execution_count": 40,
      "outputs": []
    },
    {
      "cell_type": "code",
      "source": [
        "X"
      ],
      "metadata": {
        "colab": {
          "base_uri": "https://localhost:8080/"
        },
        "id": "Ril5lfgdyUI3",
        "outputId": "f6705be1-50f2-44f0-ec55-5627f1aef04f"
      },
      "execution_count": 41,
      "outputs": [
        {
          "output_type": "execute_result",
          "data": {
            "text/plain": [
              "array([[ 0., 24.,  3., ...,  0.,  0.,  1.],\n",
              "       [ 2.,  1.,  5., ...,  0.,  0.,  0.],\n",
              "       [ 2.,  9.,  6., ...,  0.,  0.,  0.],\n",
              "       ...,\n",
              "       [ 0., 27.,  4., ...,  0.,  0.,  0.],\n",
              "       [ 0.,  1.,  3., ...,  0.,  0.,  1.],\n",
              "       [ 2.,  9.,  5., ...,  0.,  0.,  0.]])"
            ]
          },
          "metadata": {},
          "execution_count": 41
        }
      ]
    },
    {
      "cell_type": "code",
      "metadata": {
        "id": "AVzJWAXIhxoC"
      },
      "source": [
        "from sklearn.model_selection import train_test_split\n",
        "X_train, X_test, y_train, y_test = train_test_split(X, y, test_size = 0.25, random_state = 0)"
      ],
      "execution_count": 42,
      "outputs": []
    },
    {
      "cell_type": "code",
      "metadata": {
        "id": "P3nS3-6r1i2B",
        "outputId": "aaba41fa-777c-41e8-a3ff-66e2bafa85e9",
        "colab": {
          "base_uri": "https://localhost:8080/"
        }
      },
      "source": [
        "print(X_train)"
      ],
      "execution_count": 43,
      "outputs": [
        {
          "output_type": "stream",
          "name": "stdout",
          "text": [
            "[[ 1. 24.  3. ...  0.  0.  0.]\n",
            " [ 0. 18.  6. ...  0.  0.  0.]\n",
            " [ 1. 18.  5. ...  0.  0.  0.]\n",
            " ...\n",
            " [ 1.  3.  3. ...  0.  0.  0.]\n",
            " [ 2.  3.  3. ...  0.  0.  0.]\n",
            " [ 1.  9.  5. ...  0.  0.  0.]]\n"
          ]
        }
      ]
    },
    {
      "cell_type": "code",
      "metadata": {
        "id": "8dpDLojm1mVG",
        "outputId": "9cefdf6e-ae1c-43bb-9913-7d87ac4e8e73",
        "colab": {
          "base_uri": "https://localhost:8080/"
        }
      },
      "source": [
        "print(y_train)"
      ],
      "execution_count": 44,
      "outputs": [
        {
          "output_type": "stream",
          "name": "stdout",
          "text": [
            "[24 18 18 ...  3  3  9]\n"
          ]
        }
      ]
    },
    {
      "cell_type": "code",
      "metadata": {
        "id": "qbb7i0DH1qui",
        "outputId": "65132d84-1bc1-46da-97ff-4e9550a0892a",
        "colab": {
          "base_uri": "https://localhost:8080/"
        }
      },
      "source": [
        "print(X_test)"
      ],
      "execution_count": 45,
      "outputs": [
        {
          "output_type": "stream",
          "name": "stdout",
          "text": [
            "[[ 1. 15.  5. ...  0.  0.  0.]\n",
            " [ 1. 21.  5. ...  0.  0.  0.]\n",
            " [ 0. 27.  6. ...  0.  1.  0.]\n",
            " ...\n",
            " [ 1. 18.  5. ...  0.  0.  0.]\n",
            " [ 0.  1.  5. ...  0.  0.  0.]\n",
            " [ 1.  9.  6. ...  0.  0.  0.]]\n"
          ]
        }
      ]
    },
    {
      "cell_type": "code",
      "metadata": {
        "id": "kj1hnFAR1s5w",
        "outputId": "ac15cd8b-244c-4b4d-ed72-39e7f6e8646c",
        "colab": {
          "base_uri": "https://localhost:8080/"
        }
      },
      "source": [
        "print(y_test)"
      ],
      "execution_count": 46,
      "outputs": [
        {
          "output_type": "stream",
          "name": "stdout",
          "text": [
            "[15 21 27 ... 18  1  9]\n"
          ]
        }
      ]
    },
    {
      "cell_type": "code",
      "metadata": {
        "id": "9fQlDPKCh8sc"
      },
      "source": [
        "from sklearn.preprocessing import StandardScaler\n",
        "sc = StandardScaler()\n",
        "X_train = sc.fit_transform(X_train)\n",
        "X_test = sc.transform(X_test)"
      ],
      "execution_count": 47,
      "outputs": []
    },
    {
      "cell_type": "code",
      "metadata": {
        "id": "e0pFVAmciHQs",
        "colab": {
          "base_uri": "https://localhost:8080/"
        },
        "outputId": "3696d794-7c8a-494a-c874-ad6845baa0da"
      },
      "source": [
        "from sklearn.naive_bayes import GaussianNB\n",
        "classifier = GaussianNB()\n",
        "classifier.fit(X_train, y_train)"
      ],
      "execution_count": 48,
      "outputs": [
        {
          "output_type": "execute_result",
          "data": {
            "text/plain": [
              "GaussianNB()"
            ]
          },
          "metadata": {},
          "execution_count": 48
        }
      ]
    },
    {
      "cell_type": "code",
      "metadata": {
        "id": "f8YOXsQy58rP",
        "outputId": "daf87ff7-9ec8-4971-fccf-8815298f393a",
        "colab": {
          "base_uri": "https://localhost:8080/"
        }
      },
      "source": [
        "print(classifier.predict(sc.transform([[2,24,3,15,20,4,40,20,30,0,0,0,0,1,0,0,0,0,0,0,0,0,1,0,0,0,0,0,0]])))"
      ],
      "execution_count": 49,
      "outputs": [
        {
          "output_type": "stream",
          "name": "stdout",
          "text": [
            "[1]\n"
          ]
        }
      ]
    },
    {
      "cell_type": "code",
      "metadata": {
        "id": "p6VMTb2O4hwM"
      },
      "source": [
        "y_pred = classifier.predict(X_test)\n"
      ],
      "execution_count": 50,
      "outputs": []
    },
    {
      "cell_type": "code",
      "metadata": {
        "id": "D6bpZwUiiXic",
        "outputId": "c0b26f4a-4771-493e-8563-e8575d13bfc2",
        "colab": {
          "base_uri": "https://localhost:8080/"
        }
      },
      "source": [
        "from sklearn.metrics import confusion_matrix, accuracy_score\n",
        "cm = confusion_matrix(y_test, y_pred)\n",
        "print(cm)\n",
        "accuracy_score(y_test, y_pred)"
      ],
      "execution_count": 51,
      "outputs": [
        {
          "output_type": "stream",
          "name": "stdout",
          "text": [
            "[[275   1   0   0   0   0   0   0   0   0]\n",
            " [  1 220   0   0   0   0   0   0   0   0]\n",
            " [  1   0 328   0   0   0   0   0   0   0]\n",
            " [  0   0   0 329   0   0   0   0   0   0]\n",
            " [  0   0   0   0 229   0   0   0   0   0]\n",
            " [  0   0   0   0   0 225   0   0   0   0]\n",
            " [  0   0   0   0   0   0 208   0   0   0]\n",
            " [  0   0   0   0   0   0   0 308   0   0]\n",
            " [  0   0   0   0   0   0   0   0 252   0]\n",
            " [  0   0   0   0   0   0   0   0   0 294]]\n"
          ]
        },
        {
          "output_type": "execute_result",
          "data": {
            "text/plain": [
              "0.9988768251591165"
            ]
          },
          "metadata": {},
          "execution_count": 51
        }
      ]
    }
  ]
}